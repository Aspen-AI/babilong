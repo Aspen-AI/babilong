{
 "cells": [
  {
   "cell_type": "markdown",
   "metadata": {
    "vscode": {
     "languageId": "bat"
    }
   },
   "source": [
    "## Run model and collect predictions on BABILong"
   ]
  },
  {
   "cell_type": "code",
   "execution_count": 1,
   "metadata": {},
   "outputs": [],
   "source": [
    "import os\n",
    "os.chdir('..')\n",
    "os.environ['CUDA_VISIBLE_DEVICES'] = '0,1,2,3'\n",
    "\n",
    "import torch\n",
    "from transformers import AutoTokenizer, AutoModelForCausalLM\n",
    "import datasets\n",
    "from tqdm.auto import tqdm\n",
    "import pandas as pd\n",
    "import json\n",
    "\n",
    "from pathlib import Path\n",
    "\n",
    "from babilong.prompts import DEFAULT_PROMPTS, DEFAULT_TEMPLATE, get_formatted_input\n",
    "from babilong.babilong_utils import compare_answers"
   ]
  },
  {
   "cell_type": "code",
   "execution_count": 2,
   "metadata": {},
   "outputs": [
    {
     "data": {
      "text/plain": [
       "4"
      ]
     },
     "execution_count": 2,
     "metadata": {},
     "output_type": "execute_result"
    }
   ],
   "source": [
    "torch.cuda.device_count()"
   ]
  },
  {
   "cell_type": "code",
   "execution_count": 3,
   "metadata": {},
   "outputs": [],
   "source": [
    "results_folder = './babilong_evals'\n",
    "model_name = 'mistralai/Mixtral-8x7B-Instruct-v0.1'\n",
    "dtype = torch.bfloat16\n",
    "device_map = 'auto'\n",
    "max_length = 34000"
   ]
  },
  {
   "cell_type": "code",
   "execution_count": null,
   "metadata": {},
   "outputs": [],
   "source": [
    "tokenizer = AutoTokenizer.from_pretrained(model_name, trust_remote_code=True)\n",
    "model = AutoModelForCausalLM.from_pretrained(model_name, trust_remote_code=True,\n",
    "                                             device_map=device_map, torch_dtype=dtype,\n",
    "                                             attn_implementation='flash_attention_2')\n",
    "model = model.eval()"
   ]
  },
  {
   "cell_type": "code",
   "execution_count": 8,
   "metadata": {},
   "outputs": [],
   "source": [
    "generate_kwargs = {\n",
    "    'num_beams': 1,\n",
    "    'do_sample': False,\n",
    "    'temperature': None,\n",
    "    'top_p': None,\n",
    "    'top_k': None,\n",
    "}"
   ]
  },
  {
   "cell_type": "markdown",
   "metadata": {},
   "source": [
    "define prompt template"
   ]
  },
  {
   "cell_type": "code",
   "execution_count": 9,
   "metadata": {},
   "outputs": [],
   "source": [
    "# following recommedation from https://huggingface.co/mistralai/Mistral-7B-Instruct-v0.2\n",
    "# we use tokenizer.apply_chat_template\n",
    "# messages = [{\"role\": \"user\", \"content\": DEFAULT_TEMPLATE}]"
   ]
  },
  {
   "cell_type": "code",
   "execution_count": 13,
   "metadata": {},
   "outputs": [],
   "source": [
    "tasks = ['qa1', 'qa2', 'qa3', 'qa4', 'qa5'] #,['qa1', 'qa2', 'qa6', 'qa7', 'qa8', 'qa9', 'qa10']\n",
    "split_names = ['0k', '1k', '2k', '4k', '8k', '16k', '32k'] # ['1k', '2k', '4k', '8k', '16k', '32k', '64k', '128k']"
   ]
  },
  {
   "cell_type": "code",
   "execution_count": null,
   "metadata": {},
   "outputs": [],
   "source": [
    "for task in tqdm(tasks, desc='tasks'):\n",
    "    prompt_cfg = {\n",
    "        'instruction': DEFAULT_PROMPTS[task]['instruction'],\n",
    "        'examples': DEFAULT_PROMPTS[task]['examples'],\n",
    "        'post_prompt': DEFAULT_PROMPTS[task]['post_prompt'],\n",
    "        'template': DEFAULT_TEMPLATE,\n",
    "    }\n",
    "    prompt_name = [f'{k}_no' if len(prompt_cfg[k]) == 0 else f'{k}_yes' for k in prompt_cfg if k != 'template']\n",
    "    prompt_name = '_'.join(prompt_name)\n",
    "    for split_name in tqdm(split_names, desc='lengths'):\n",
    "        data = datasets.load_dataset(\"booydar/babilong\", split_name)\n",
    "        task_data = data[task].select(range(100))\n",
    "\n",
    "        outfile = Path(f'{results_folder}/{model_name}/{task}_{split_name}_{prompt_name}.csv')\n",
    "        outfile.parent.mkdir(parents=True, exist_ok=True)\n",
    "        cfg_file = f'./{results_folder}/{model_name}/{task}_{split_name}_{prompt_name}.json'\n",
    "        json.dump({'prompt': prompt_cfg, 'generate_kwargs': generate_kwargs}, open(cfg_file, 'w'), indent=4)\n",
    "\n",
    "        df = pd.DataFrame({'target': [], 'output': []})\n",
    "\n",
    "        for sample in task_data:\n",
    "            target = sample['target']\n",
    "            context = sample['input']\n",
    "            question = sample['question']\n",
    "\n",
    "            input_text = get_formatted_input(context, question, prompt_cfg['examples'],\n",
    "                                             prompt_cfg['instruction'], prompt_cfg['post_prompt'],\n",
    "                                             template=DEFAULT_TEMPLATE)\n",
    "\n",
    "            input_text = [{\"role\": \"user\", \"content\": input_text}]\n",
    "\n",
    "            model_inputs = tokenizer.apply_chat_template(input_text, return_tensors=\"pt\").to(model.device)\n",
    "            sample_length = model_inputs.shape[1]\n",
    "            with torch.no_grad():\n",
    "                output = model.generate(model_inputs, max_new_tokens=25, **generate_kwargs)\n",
    "            output = output[0][sample_length:]\n",
    "            output = tokenizer.decode(output, skip_special_tokens=True).strip()\n",
    "\n",
    "            df.loc[len(df)] = [target, output]\n",
    "            df.to_csv(outfile)"
   ]
  },
  {
   "cell_type": "code",
   "execution_count": 4,
   "metadata": {
    "vscode": {
     "languageId": "markdown"
    }
   },
   "outputs": [],
   "source": [
    "## Evaluate results"
   ]
  },
  {
   "cell_type": "code",
   "execution_count": 5,
   "metadata": {},
   "outputs": [],
   "source": [
    "import seaborn as sns\n",
    "import matplotlib\n",
    "import matplotlib.pylab as plt\n",
    "from matplotlib.colors import LinearSegmentedColormap\n",
    "\n",
    "import pandas as pd\n",
    "import numpy as np\n",
    "\n",
    "# import os\n",
    "# os.chdir('..')"
   ]
  },
  {
   "cell_type": "code",
   "execution_count": 6,
   "metadata": {},
   "outputs": [],
   "source": [
    "results_folder = './babilong_evals'\n",
    "model_name = 'mistralai/Mistral-7B-Instruct-v0.2'\n",
    "prompt_name = 'instruction_yes_examples_yes_post_prompt_yes'"
   ]
  },
  {
   "cell_type": "code",
   "execution_count": null,
   "metadata": {},
   "outputs": [],
   "source": [
    "tasks = ['qa1', 'qa2', 'qa3', 'qa4', 'qa5']#, 'qa6', 'qa7', 'qa8', 'qa9', 'qa10']\n",
    "lengths = ['0k', '1k', '2k', '4k', '8k', '16k', '32k']"
   ]
  },
  {
   "cell_type": "code",
   "execution_count": null,
   "metadata": {},
   "outputs": [],
   "source": [
    "accuracy = np.zeros((len(tasks), len(lengths)))\n",
    "for j, task in enumerate(tasks):\n",
    "    for i, ctx_length in enumerate(lengths):\n",
    "        fname = f'./{results_folder}/{model_name}/{task}_{ctx_length}_{prompt_name}.csv'\n",
    "        if not os.path.isfile(fname):\n",
    "            print(f'No such file: {fname}')\n",
    "            continue\n",
    "        \n",
    "        df = pd.read_csv(fname)\n",
    "        \n",
    "        if df['output'].dtype != object:\n",
    "            df['output'] = df['output'].astype(str)\n",
    "        df['output'] = df['output'].fillna('')\n",
    "\n",
    "\n",
    "        df['correct'] = df.apply(lambda row: compare_answers(row['target'], row['output']), axis=1)\n",
    "        score = df['correct'].sum()\n",
    "        accuracy[j, i] = 100 * score / len(df) if len(df) > 0 else 0\n",
    "\n",
    "# Set large font sizes for better visibility in the PDF\n",
    "matplotlib.rc('font', size=14)\n",
    "\n",
    "# Create a colormap for the heatmap\n",
    "cmap = LinearSegmentedColormap.from_list('ryg', [\"red\", \"yellow\", \"green\"], N=256)\n",
    "\n",
    "# Create the heatmap\n",
    "fig, ax = plt.subplots(figsize=(5, 3.5))  # Adjust the size as necessary\n",
    "sns.heatmap(accuracy, cmap=cmap, vmin=0, vmax=100, annot=True, fmt=\".0f\",\n",
    "            linewidths=.5, xticklabels=lengths, yticklabels=tasks, ax=ax)\n",
    "ax.set_title(f'Performance of {model_name} \\n on BABILong \\n')\n",
    "ax.set_xlabel('Context size')\n",
    "ax.set_ylabel('Tasks')\n",
    "\n",
    "# Save the figure to a PDF\n",
    "# plt.savefig('all_tasks_performance.pdf', bbox_inches='tight')\n",
    "plt.show()"
   ]
  },
  {
   "cell_type": "code",
   "execution_count": null,
   "metadata": {},
   "outputs": [],
   "source": []
  },
  {
   "cell_type": "code",
   "execution_count": null,
   "metadata": {},
   "outputs": [],
   "source": [
    "model_inputs = tokenizer.apply_chat_template([{\"role\": \"user\", \"content\": msg}], return_tensors=\"pt\")\n",
    "sample_length = model_inputs.shape[1]\n",
    "with torch.no_grad():\n",
    "    output = model.generate(torch.tensor([tokens]), max_new_tokens=25, **generate_kwargs)\n",
    "output = output[0][sample_length:]\n",
    "output = tokenizer.decode(output, skip_special_tokens=False)"
   ]
  },
  {
   "cell_type": "code",
   "execution_count": null,
   "metadata": {},
   "outputs": [],
   "source": [
    "tokenizer = AutoTokenizer.from_pretrained(model_name, trust_remote_code=True)\n",
    "model = AutoModelForCausalLM.from_pretrained(model_name, trust_remote_code=True,\n",
    "                                             device_map=device_map, torch_dtype=dtype,\n",
    "                                             attn_implementation='flash_attention_2')\n",
    "model = model.eval()"
   ]
  },
  {
   "cell_type": "markdown",
   "metadata": {},
   "source": [
    "## Evaluate results"
   ]
  },
  {
   "cell_type": "code",
   "execution_count": null,
   "metadata": {},
   "outputs": [],
   "source": [
    "torch.cuda.device_count()"
   ]
  },
  {
   "cell_type": "code",
   "execution_count": 7,
   "metadata": {},
   "outputs": [],
   "source": [
    "results_folder = './babilong_evals'\n",
    "model_name = 'mistralai/Mixtral-8x7B-Instruct-v0.1'\n",
    "prompt_name = 'instruction_yes_examples_yes_post_prompt_yes'"
   ]
  },
  {
   "cell_type": "code",
   "execution_count": 8,
   "metadata": {},
   "outputs": [],
   "source": [
    "tasks = ['qa1', 'qa2', 'qa3', 'qa4', 'qa5']#, 'qa6', 'qa7', 'qa8', 'qa9', 'qa10']\n",
    "lengths = ['0k', '1k', '2k', '4k', '8k', '16k', '32k']"
   ]
  },
  {
   "cell_type": "code",
   "execution_count": 9,
   "metadata": {},
   "outputs": [
    {
     "data": {
      "image/png": "[encoded data removed]",
      "text/plain": [
       "<Figure size 500x350 with 2 Axes>"
      ]
     },
     "metadata": {},
     "output_type": "display_data"
    }
   ],
   "source": [
    "accuracy = np.zeros((len(tasks), len(lengths)))\n",
    "for j, task in enumerate(tasks):\n",
    "    for i, ctx_length in enumerate(lengths):\n",
    "        fname = f'./{results_folder}/{model_name}/{task}_{ctx_length}_{prompt_name}.csv'\n",
    "        if not os.path.isfile(fname):\n",
    "            print(f'No such file: {fname}')\n",
    "            continue\n",
    "        \n",
    "        df = pd.read_csv(fname)\n",
    "        \n",
    "        if df['output'].dtype != object:\n",
    "            df['output'] = df['output'].astype(str)\n",
    "        df['output'] = df['output'].fillna('')\n",
    "\n",
    "\n",
    "        df['correct'] = df.apply(lambda row: compare_answers(row['target'], row['output']), axis=1)\n",
    "        score = df['correct'].sum()\n",
    "        accuracy[j, i] = 100 * score / len(df) if len(df) > 0 else 0\n",
    "\n",
    "# Set large font sizes for better visibility in the PDF\n",
    "matplotlib.rc('font', size=14)\n",
    "\n",
    "# Create a colormap for the heatmap\n",
    "cmap = LinearSegmentedColormap.from_list('ryg', [\"red\", \"yellow\", \"green\"], N=256)\n",
    "\n",
    "# Create the heatmap\n",
    "fig, ax = plt.subplots(figsize=(5, 3.5))  # Adjust the size as necessary\n",
    "sns.heatmap(accuracy, cmap=cmap, vmin=0, vmax=100, annot=True, fmt=\".0f\",\n",
    "            linewidths=.5, xticklabels=lengths, yticklabels=tasks, ax=ax)\n",
    "ax.set_title(f'Performance of {model_name} \\n on BABILong \\n')\n",
    "ax.set_xlabel('Context size')\n",
    "ax.set_ylabel('Tasks')\n",
    "\n",
    "# Save the figure to a PDF\n",
    "# plt.savefig('all_tasks_performance.pdf', bbox_inches='tight')\n",
    "plt.show()"
   ]
  }
 ],
 "metadata": {
  "kernelspec": {
   "display_name": "Python 3",
   "language": "python",
   "name": "python3"
  },
  "language_info": {
   "codemirror_mode": {
    "name": "ipython",
    "version": 3
   },
   "file_extension": ".py",
   "mimetype": "text/x-python",
   "name": "python",
   "nbconvert_exporter": "python",
   "pygments_lexer": "ipython3",
   "version": "3.11.9"
  }
 },
 "nbformat": 4,
 "nbformat_minor": 2
}
